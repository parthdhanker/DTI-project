{
 "cells": [
  {
   "cell_type": "code",
   "execution_count": null,
   "id": "62e572e9-9ccb-4978-831e-57d0f8a79076",
   "metadata": {},
   "outputs": [],
   "source": [
    "from tensorflow.keras.models import load_model\n",
    "\n",
    "# 1. Define where your trained model is saved\n",
    "MODEL_PATH = r\"C:\\Users\\lenovo\\Desktop\\DTI Project\\best_model.h5\"\n",
    "\n",
    "# 2. Load the model before prediction\n",
    "model = load_model(MODEL_PATH)\n",
    "\n",
    "def predict_segmentation(image_path, model):\n",
    "    \"\"\"Predict segmentation for a new image and display area percentages.\"\"\"\n",
    "    # Load and predict\n",
    "    img = load_image(image_path)\n",
    "    img_exp = np.expand_dims(img, axis=0)  # Add batch dimension\n",
    "    pred_mask = model.predict(img_exp)\n",
    "    pred_mask = np.argmax(pred_mask[0], axis=-1)  # Get class labels\n",
    "    \n",
    "    # Calculate area percentages\n",
    "    total_pixels = pred_mask.size\n",
    "    unique_classes, counts = np.unique(pred_mask, return_counts=True)\n",
    "    \n",
    "    print(\"Predicted Area Coverage:\")\n",
    "    print(\"-----------------------\")\n",
    "    for class_id, count in zip(unique_classes, counts):\n",
    "        percentage = (count / total_pixels) * 100\n",
    "        class_name = class_to_name.get(class_id, f\"Class {class_id}\")\n",
    "        print(f\"{class_name}: {percentage:.2f}%\")\n",
    "    \n",
    "    return pred_mask\n",
    "\n",
    "# 3. Predict on a test image\n",
    "test_image_path = r\"C:\\Users\\lenovo\\Desktop\\DTI Project\\outputs\\result_2.png\"\n",
    "predicted_mask = predict_segmentation(test_image_path, model)\n",
    "\n",
    "# Display results\n",
    "plt.figure(figsize=(10, 5))\n",
    "\n",
    "plt.subplot(1, 2, 1)\n",
    "plt.imshow(load_img(test_image_path))\n",
    "plt.title(\"Original Image\")\n",
    "\n",
    "plt.subplot(1, 2, 2)\n",
    "plt.imshow(predicted_mask, cmap=\"viridis\")\n",
    "plt.title(\"Predicted Segmentation\")\n",
    "\n",
    "plt.show()"
   ]
  }
 ],
 "metadata": {
  "kernelspec": {
   "display_name": "Python 3 (ipykernel)",
   "language": "python",
   "name": "python3"
  },
  "language_info": {
   "codemirror_mode": {
    "name": "ipython",
    "version": 3
   },
   "file_extension": ".py",
   "mimetype": "text/x-python",
   "name": "python",
   "nbconvert_exporter": "python",
   "pygments_lexer": "ipython3",
   "version": "3.12.4"
  }
 },
 "nbformat": 4,
 "nbformat_minor": 5
}
